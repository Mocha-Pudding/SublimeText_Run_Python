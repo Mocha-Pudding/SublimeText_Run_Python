{
 "cells": [
  {
   "cell_type": "markdown",
   "metadata": {},
   "source": [
    "## 配置环境\n"
   ]
  },
  {
   "cell_type": "markdown",
   "metadata": {},
   "source": [
    "1、打开Tools > Build System > New Build System.."
   ]
  },
  {
   "cell_type": "markdown",
   "metadata": {},
   "source": [
    "2、点击New Build System后，会生成一个空配置文件，在这个配置文件内覆盖配置信息，本文python安装路径为“D:/Anaconda3”，（注意区分正反斜杠，请将路径换成python实际安装路径），然后按ctrl+s，将文件保存在默认路径，文件名命名为“Python3”"
   ]
  },
  {
   "cell_type": "code",
   "execution_count": null,
   "metadata": {},
   "outputs": [],
   "source": [
    "{\n",
    "    \"cmd\": [\"D:/Anaconda3/python.exe\",\"-u\",\"$file\"],\n",
    "    \"file_regex\": \"^[ ]*File \\\"(...*?)\\\", line ([0-9]*)\",\n",
    "    \"selector\": \"source.python\",\n",
    "}"
   ]
  },
  {
   "cell_type": "code",
   "execution_count": null,
   "metadata": {},
   "outputs": [],
   "source": [
    "{\n",
    "    \"encoding\": \"utf-8\",  \n",
    "    \"working_dir\": \"$file_path\",  \n",
    "    \"shell_cmd\": \"Python安装路径 + python.exe -u \\\"$file\\\"\",  \n",
    "    \"file_regex\": \"^[ ]*File \\\"(...*?)\\\", line ([0-9]*)\",  \n",
    "    \"selector\": \"source.python\" \n",
    "}"
   ]
  },
  {
   "cell_type": "code",
   "execution_count": null,
   "metadata": {},
   "outputs": [],
   "source": []
  },
  {
   "cell_type": "code",
   "execution_count": null,
   "metadata": {},
   "outputs": [],
   "source": []
  },
  {
   "cell_type": "markdown",
   "metadata": {},
   "source": [
    "### sublime text3为中断程序运行设置键盘快捷键"
   ]
  },
  {
   "cell_type": "markdown",
   "metadata": {},
   "source": [
    "#### 在sublime的上边栏依次点击：preference-->Key Bindings弹出窗口，并输入以下代码："
   ]
  },
  {
   "cell_type": "code",
   "execution_count": null,
   "metadata": {},
   "outputs": [],
   "source": [
    "{ \"keys\": [\"ctrl+shift+c\"], \"command\": \"cancel_build\" }"
   ]
  },
  {
   "cell_type": "markdown",
   "metadata": {},
   "source": [
    "#### 按照以往习惯将取消编译换成'ctrl+shift+c'键(因为'ctrl+c'用作copy的快捷键，所以设置成这个)\n",
    "#### 注意事项：每条语句之间要用逗号分隔，在新写入语句前应用逗号将两者分开，否则会报错。最后记得‘crtl+s’保存设置。"
   ]
  }
 ],
 "metadata": {
  "kernelspec": {
   "display_name": "Python 3",
   "language": "python",
   "name": "python3"
  },
  "language_info": {
   "codemirror_mode": {
    "name": "ipython",
    "version": 3
   },
   "file_extension": ".py",
   "mimetype": "text/x-python",
   "name": "python",
   "nbconvert_exporter": "python",
   "pygments_lexer": "ipython3",
   "version": "3.7.3"
  }
 },
 "nbformat": 4,
 "nbformat_minor": 2
}
